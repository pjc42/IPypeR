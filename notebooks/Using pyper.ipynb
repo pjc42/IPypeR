{
 "cells": [
  {
   "cell_type": "code",
   "execution_count": 46,
   "metadata": {},
   "outputs": [],
   "source": [
    "from pyper import *\n",
    "rInstallPath='B:\\\\bin\\\\r\\\\App\\\\R-Portable\\\\bin\\\\R.exe'\n",
    "r = R(RCMD=rInstallPath)"
   ]
  },
  {
   "cell_type": "code",
   "execution_count": 47,
   "metadata": {},
   "outputs": [
    {
     "name": "stdout",
     "output_type": "stream",
     "text": [
      "r.has_numpy: True\n",
      "r.has_pandas: True\n"
     ]
    }
   ],
   "source": [
    "# check for numpy & pandas in R\n",
    "print('r.has_numpy: {}'.format(r.has_numpy))\n",
    "print('r.has_pandas: {}'.format(r.has_pandas))"
   ]
  },
  {
   "cell_type": "code",
   "execution_count": 53,
   "metadata": {},
   "outputs": [
    {
     "name": "stdout",
     "output_type": "stream",
     "text": [
      "3\n",
      "6\n"
     ]
    },
    {
     "data": {
      "image/png": "[encoded data removed]"
     },
     "output_type": "display_data",
     "metadata": {}
    }
   ],
   "source": [
    "# run R codes\n",
    "r.run('a <- 3')\n",
    "r('a <- 3')\n",
    "r(['a <- 3', 'b <- a*2', 'print(b)'])\n",
    "print(repr(r.a))\n",
    "print(repr(r.b))\n",
    "\n",
    "r('png(\"abc.png\"); plot(1:5); dev.off()') # plotting in R\n",
    "from IPython.display import Image\n",
    "Image(filename='abc.png')"
   ]
  },
  {
   "cell_type": "code",
   "execution_count": 37,
   "metadata": {},
   "outputs": [
    {
     "name": "stdout",
     "output_type": "stream",
     "text": [
      "\n",
      "\n",
      "-------Test without numpy & pandas----------\n",
      "\n",
      "R vector (avec): \n",
      "array([0, 1, 2, 3, 4])\n",
      "\n",
      "R list (alist): \n",
      "[1, [2, 3, 'any strings'], (4+5j)]\n",
      "\n",
      "R matrix (amat): \n",
      "array([[ 0,  1,  2,  3],\n",
      "       [ 4,  5,  6,  7],\n",
      "       [ 8,  9, 10, 11]])\n",
      "\n",
      "R array (aary): \n",
      "array([[[ 0,  3,  6,  9],\n",
      "        [ 1,  4,  7, 10],\n",
      "        [ 2,  5,  8, 11]],\n",
      "\n",
      "       [[12, 15, 18, 21],\n",
      "        [13, 16, 19, 22],\n",
      "        [14, 17, 20, 23]]])\n",
      "\n",
      "R data frame (adfm): \n",
      "    aa       bb\n",
      "0     1  b's-2'\n",
      "1     2  b's-3'\n",
      "2     3  b's-4'\n"
     ]
    }
   ],
   "source": [
    "# test for more data structure\n",
    "print('\\n\\n-------Test without numpy & pandas----------')\n",
    "r.avec = 0, 1, 2, 3, 4\n",
    "r.alist = [1, (2, 3, 'any strings'), 4+5j]\n",
    "r('amat <- matrix(0:11, nrow=3, byrow=TRUE)')\n",
    "r('aary <- array(0:23, dim=c(3,4,2))')\n",
    "r('adfm <- data.frame(aa=1:3, bb=paste(\"s\", 2:4, sep=\"-\"))')\n",
    "print('\\nR vector (avec): \\n' + repr(r.avec))\n",
    "print('\\nR list (alist): \\n' + repr(r.alist))\n",
    "print('\\nR matrix (amat): \\n' + repr(r.amat))\n",
    "print('\\nR array (aary): \\n' + repr(r.aary))\n",
    "print('\\nR data frame (adfm): \\n' + repr(r.adfm))"
   ]
  },
  {
   "cell_type": "code",
   "execution_count": 38,
   "metadata": {},
   "outputs": [
    {
     "name": "stdout",
     "output_type": "stream",
     "text": [
      "\n",
      "\n",
      "-------Test with numpy----------\n",
      "\n",
      "R vector (avec): \n",
      "array([0, 1, 2, 3, 4])\n",
      "\n",
      "R vector (bvec): \n",
      "array([0, 1, 2, 3, 4])\n",
      "\n",
      "R matrix (amat): \n",
      "array([[ 0,  1,  2,  3],\n",
      "       [ 4,  5,  6,  7],\n",
      "       [ 8,  9, 10, 11]])\n",
      "\n",
      "R matrix (bamat): \n",
      "array([[ 0,  1,  2,  3],\n",
      "       [ 4,  5,  6,  7],\n",
      "       [ 8,  9, 10, 11]])\n",
      "\n",
      "R array (aary): \n",
      "array([[[ 0,  3,  6,  9],\n",
      "        [ 1,  4,  7, 10],\n",
      "        [ 2,  5,  8, 11]],\n",
      "\n",
      "       [[12, 15, 18, 21],\n",
      "        [13, 16, 19, 22],\n",
      "        [14, 17, 20, 23]]])\n",
      "\n",
      "R array (bary): \n",
      "array([[[ 0,  1,  2,  3],\n",
      "        [ 4,  5,  6,  7],\n",
      "        [ 8,  9, 10, 11]],\n",
      "\n",
      "       [[12, 13, 14, 15],\n",
      "        [16, 17, 18, 19],\n",
      "        [20, 21, 22, 23]]])\n",
      "\n",
      "R data frame (adfm): \n",
      "    aa       bb\n",
      "0     1  b's-2'\n",
      "1     2  b's-3'\n",
      "2     3  b's-4'\n",
      "\n",
      "R data frame (bdfm): \n",
      "    id  employee   salary \n",
      "0     1   b'Joe'     35820\n",
      "1     2  b'Jane'     41235\n",
      "2     3  b'Kate'     37932\n"
     ]
    }
   ],
   "source": [
    "if has_numpy:\n",
    "    print('\\n\\n-------Test with numpy----------')\n",
    "    r.has_numpy = True\n",
    "    arange, array, reshape = numpy.arange, numpy.array, numpy.reshape\n",
    "    # numpy arrays\n",
    "    # one-dimenstion numpy array will be converted to R vector\n",
    "    r.bvec = arange(5)\n",
    "    # two-dimenstion numpy array will be converted to R matrix\n",
    "    r.bmat = reshape(arange(12), (3, 4)) # a 3-row, 4-column matrix\n",
    "    # numpy array of three or higher dimensions will be converted to R array\n",
    "    r.bary = reshape(arange(24), (2, 3, 4)) # a 3-row, 4-column, 2-layer array \n",
    "    # one-dimenstion numpy record array will be converted to R data.framme\n",
    "    r.bdfm = array([(1, 'Joe', 35820.0), (2, 'Jane', 41235.0), (3, 'Kate', 37932.0)], \\\n",
    "            dtype=[('id', '<i4'), ('employee', '|S4'), ('salary', '<f4')])\n",
    "    print('\\nR vector (avec): \\n' + repr(r['avec']))\n",
    "    print('\\nR vector (bvec): \\n' + repr(r['bvec']))\n",
    "    print('\\nR matrix (amat): \\n' + repr(r['amat']))\n",
    "    print('\\nR matrix (bamat): \\n' + repr(r['bmat']))\n",
    "    print('\\nR array (aary): \\n' + repr(r['aary']))\n",
    "    print('\\nR array (bary): \\n' + repr(r['bary']))\n",
    "    print('\\nR data frame (adfm): \\n' + repr(r['adfm']))\n",
    "    print('\\nR data frame (bdfm): \\n' + repr(r['bdfm']))"
   ]
  },
  {
   "cell_type": "code",
   "execution_count": 39,
   "metadata": {},
   "outputs": [
    {
     "name": "stdout",
     "output_type": "stream",
     "text": [
      "\n",
      "\n",
      "-------Test with pandas----------\n",
      "\n",
      "R data frame (adfm): \n",
      "    aa       bb\n",
      "0     1  b's-2'\n",
      "1     2  b's-3'\n",
      "2     3  b's-4'\n",
      "\n",
      "R data frame (bdfm): \n",
      "    id  employee   salary \n",
      "0     1   b'Joe'     35820\n",
      "1     2  b'Jane'     41235\n",
      "2     3  b'Kate'     37932\n"
     ]
    }
   ],
   "source": [
    "if has_pandas:\n",
    "    print('\\n\\n-------Test with pandas----------')\n",
    "    r.has_pandas = True\n",
    "    print('\\nR data frame (adfm): \\n' + repr(r.adfm))\n",
    "    if has_numpy:\n",
    "        print('\\nR data frame (bdfm): \\n' + repr(r['bdfm']))"
   ]
  },
  {
   "cell_type": "code",
   "execution_count": 54,
   "metadata": {},
   "outputs": [
    {
     "name": "stdout",
     "output_type": "stream",
     "text": [
      "\n",
      "\n",
      "-------Test for huge data sets----------\n",
      "\n",
      "try({source(\"d:/temp/tmp0cvyjnoz\")})\n",
      "> file.remove('d:/temp/tmp0cvyjnoz')\n",
      "[1] TRUE\n",
      "\n",
      "\n",
      "Test passed!\n",
      "\n",
      "\n"
     ]
    }
   ],
   "source": [
    "# test huge data sets and the function runR\n",
    "print('\\n\\n-------Test for huge data sets----------\\n')\n",
    "a = range(1000000) #00)\n",
    "sa = 'a <- ' + Str4R(a)\n",
    "rlt = runR(sa, Robj=r) # If you want to launch a new R process. use \"runR(sa)\" or \"runR(sa, Robj='path_to_R')\" instead.\n",
    "print(rlt)\n",
    "\n",
    "print('\\nTest passed!\\n\\n')\n",
    "\n",
    "#del(r) # to eliminate the possible DOS windows\n",
    "\n",
    "# to use an R on remote server, you need to provide correct parameter to initialize the R instance:\n",
    "# rsrv = R(RCMD='/usr/local/bin/R', host='My_server_name_or_IP', user='username')"
   ]
  },
  {
   "cell_type": "code",
   "execution_count": 55,
   "metadata": {},
   "outputs": [
    {
     "data": {
      "image/png": "[encoded data removed]"
     },
     "output_type": "display_data",
     "metadata": {}
    }
   ],
   "source": [
    "r.run(\"\"\"\n",
    "# Define the cars vector with 5 values\n",
    "cars <- c(1, 3, 6, 4, 9);\n",
    "\n",
    "# Graph the cars vector with all defaults\n",
    "png(\"cars.png\"); \n",
    "plot(cars);\n",
    "dev.off()\n",
    "\"\"\")\n",
    "\n",
    "Image(filename='cars.png')"
   ]
  },
  {
   "cell_type": "code",
   "execution_count": 57,
   "metadata": {},
   "outputs": [
    {
     "data": {
      "image/png": "[encoded data removed]"
     },
     "output_type": "display_data",
     "metadata": {}
    }
   ],
   "source": [
    "r.run(\"\"\"\n",
    "# put the plot into a png file\n",
    "png(\"cars2.png\"); \n",
    "\n",
    "# Define 2 vectors\n",
    "cars <- c(1, 3, 6, 4, 9)\n",
    "trucks <- c(2, 5, 4, 5, 12)\n",
    "\n",
    "# Calculate range from 0 to max value of cars and trucks\n",
    "g_range <- range(0, cars, trucks)\n",
    "\n",
    "# Graph autos using y axis that ranges from 0 to max \n",
    "# value in cars or trucks vector.  Turn off axes and \n",
    "# annotations (axis labels) so we can specify them ourself\n",
    "plot(cars, type=\"o\", col=\"blue\", ylim=g_range, \n",
    "   axes=FALSE, ann=FALSE)\n",
    "\n",
    "# Make x axis using Mon-Fri labels\n",
    "axis(1, at=1:5, lab=c(\"Mon\",\"Tue\",\"Wed\",\"Thu\",\"Fri\"))\n",
    "\n",
    "# Make y axis with horizontal labels that display ticks at \n",
    "# every 4 marks. 4*0:g_range[2] is equivalent to c(0,4,8,12).\n",
    "axis(2, las=1, at=4*0:g_range[2])\n",
    "\n",
    "# Create box around plot\n",
    "box()\n",
    "\n",
    "# Graph trucks with red dashed line and square points\n",
    "lines(trucks, type=\"o\", pch=22, lty=2, col=\"red\")\n",
    "\n",
    "# Create a title with a red, bold/italic font\n",
    "title(main=\"Autos\", col.main=\"red\", font.main=4)\n",
    "\n",
    "# Label the x and y axes with dark green text\n",
    "title(xlab=\"Days\", col.lab=rgb(0,0.5,0))\n",
    "title(ylab=\"Total\", col.lab=rgb(0,0.5,0))\n",
    "\n",
    "# Create a legend at (1, g_range[2]) that is slightly smaller \n",
    "# (cex) and uses the same line colors and points used by \n",
    "# the actual plots \n",
    "legend(1, g_range[2], c(\"cars\",\"trucks\"), cex=0.8, \n",
    "   col=c(\"blue\",\"red\"), pch=21:22, lty=1:2);\n",
    "\n",
    "#close the png file\n",
    "dev.off()\n",
    "\"\"\")\n",
    "\n",
    "Image(filename='cars2.png')"
   ]
  },
  {
   "cell_type": "code",
   "execution_count": null,
   "metadata": {},
   "outputs": [],
   "source": [
    ""
   ]
  }
 ],
 "metadata": {
  "kernelspec": {
   "display_name": "Python 3",
   "language": "python",
   "name": "python3"
  },
  "language_info": {
   "codemirror_mode": {
    "name": "ipython",
    "version": 3.0
   },
   "file_extension": ".py",
   "mimetype": "text/x-python",
   "name": "python",
   "nbconvert_exporter": "python",
   "pygments_lexer": "ipython3",
   "version": "3.4.3"
  }
 },
 "nbformat": 4,
 "nbformat_minor": 0
}