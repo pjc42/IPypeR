{
 "metadata": {
  "name": "9932_05_03"
 },
 "nbformat": 3,
 "nbformat_minor": 0,
 "worksheets": [
  {
   "cells": [
    {
     "cell_type": "code",
     "collapsed": false,
     "input": [
      "def primes1(n):\n",
      "    composites = [False, False] + [True] * (n - 2)\n",
      "    i = 2\n",
      "    while i < n:\n",
      "        # we do not deal with composite numbers\n",
      "        if not composites[i]:\n",
      "            i += 1\n",
      "            continue\n",
      "        k = i * i\n",
      "        # mark multiples of i as composite numbers\n",
      "        while k < n:\n",
      "            composites[k] = False\n",
      "            k += i\n",
      "        i += 1\n",
      "    primes = [i for i in xrange(2, n) if composites[i]]\n",
      "    return primes"
     ],
     "language": "python",
     "metadata": {},
     "outputs": [],
     "prompt_number": 1
    },
    {
     "cell_type": "code",
     "collapsed": false,
     "input": [
      "n = 10000"
     ],
     "language": "python",
     "metadata": {},
     "outputs": [],
     "prompt_number": 2
    },
    {
     "cell_type": "code",
     "collapsed": false,
     "input": [
      "primes1(20)"
     ],
     "language": "python",
     "metadata": {},
     "outputs": [],
     "prompt_number": 3
    },
    {
     "cell_type": "code",
     "collapsed": false,
     "input": [
      "timeit primes1(n)"
     ],
     "language": "python",
     "metadata": {},
     "outputs": [],
     "prompt_number": 4
    },
    {
     "cell_type": "code",
     "collapsed": false,
     "input": [
      "load_ext cythonmagic"
     ],
     "language": "python",
     "metadata": {},
     "outputs": [],
     "prompt_number": 5
    },
    {
     "cell_type": "code",
     "collapsed": false,
     "input": [
      "%%cython\n",
      "def primes2(n):\n",
      "    composites = [False, False] + [True] * (n - 2)\n",
      "    i = 2\n",
      "    while i < n:\n",
      "        if not composites[i]:\n",
      "            i += 1\n",
      "            continue\n",
      "        k = i * i\n",
      "        while k < n:\n",
      "            composites[k] = False\n",
      "            k += i\n",
      "        i += 1\n",
      "    primes = [i for i in xrange(2, n) if composites[i]]\n",
      "    return primes"
     ],
     "language": "python",
     "metadata": {},
     "outputs": [],
     "prompt_number": 6
    },
    {
     "cell_type": "code",
     "collapsed": false,
     "input": [
      "primes2(20)"
     ],
     "language": "python",
     "metadata": {},
     "outputs": [],
     "prompt_number": 7
    },
    {
     "cell_type": "code",
     "collapsed": false,
     "input": [
      "timeit primes2(n)"
     ],
     "language": "python",
     "metadata": {},
     "outputs": [],
     "prompt_number": 8
    },
    {
     "cell_type": "code",
     "collapsed": false,
     "input": [
      "%%cython\n",
      "def primes3(int n):\n",
      "    composites = [False, False] + [True] * (n - 2)\n",
      "    cdef int i = 2\n",
      "    cdef int k = 0\n",
      "    while i < n:\n",
      "        if not composites[i]:\n",
      "            i += 1\n",
      "            continue\n",
      "        k = i * i\n",
      "        while k < n:\n",
      "            composites[k] = False\n",
      "            k += i\n",
      "        i += 1\n",
      "    primes = [i for i in xrange(2, n) if composites[i]]\n",
      "    return primes"
     ],
     "language": "python",
     "metadata": {},
     "outputs": [],
     "prompt_number": 9
    },
    {
     "cell_type": "code",
     "collapsed": false,
     "input": [
      "timeit primes3(n)"
     ],
     "language": "python",
     "metadata": {},
     "outputs": [],
     "prompt_number": 10
    }
   ],
   "metadata": {}
  }
 ]
}