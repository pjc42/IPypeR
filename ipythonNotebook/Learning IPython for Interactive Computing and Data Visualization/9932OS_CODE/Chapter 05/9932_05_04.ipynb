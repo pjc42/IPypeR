{
 "metadata": {
  "name": "9932_05_04"
 },
 "nbformat": 3,
 "nbformat_minor": 0,
 "worksheets": [
  {
   "cells": [
    {
     "cell_type": "code",
     "collapsed": false,
     "input": [
      "%load_ext cythonmagic"
     ],
     "language": "python",
     "metadata": {},
     "outputs": [],
     "prompt_number": 1
    },
    {
     "cell_type": "code",
     "collapsed": false,
     "input": [
      "n = 10000"
     ],
     "language": "python",
     "metadata": {},
     "outputs": [],
     "prompt_number": 2
    },
    {
     "cell_type": "code",
     "collapsed": false,
     "input": [
      "def step():\n",
      "    return sign(rand(1) - .5)\n",
      "\n",
      "def sim1(n):\n",
      "    x = zeros(n)\n",
      "    dx = 1./n\n",
      "    for i in xrange(n - 1):\n",
      "        x[i+1] = x[i] + dx * step()\n",
      "    return x"
     ],
     "language": "python",
     "metadata": {},
     "outputs": [],
     "prompt_number": 3
    },
    {
     "cell_type": "code",
     "collapsed": false,
     "input": [
      "plot(sim1(10000))"
     ],
     "language": "python",
     "metadata": {},
     "outputs": [],
     "prompt_number": 4
    },
    {
     "cell_type": "code",
     "collapsed": false,
     "input": [
      "timeit sim1(n)"
     ],
     "language": "python",
     "metadata": {},
     "outputs": [],
     "prompt_number": 5
    },
    {
     "cell_type": "code",
     "collapsed": false,
     "input": [
      "%%cython\n",
      "import numpy as np\n",
      "cimport numpy as np\n",
      "DTYPE = np.double\n",
      "ctypedef np.double_t DTYPE_t\n",
      "\n",
      "from libc.stdlib cimport rand, RAND_MAX\n",
      "from libc.math cimport round\n",
      "\n",
      "cdef double step():\n",
      "    return 2 * round(float(rand()) / RAND_MAX) - 1\n",
      "\n",
      "def sim2(int n):\n",
      "    cdef int i\n",
      "    cdef double dx = 1. / n\n",
      "    cdef np.ndarray[DTYPE_t, ndim=1] x = np.zeros(n, dtype=DTYPE)\n",
      "    for i in range(n - 1):\n",
      "        x[i+1] = x[i] + dx * step()\n",
      "    return x"
     ],
     "language": "python",
     "metadata": {},
     "outputs": [],
     "prompt_number": 6
    },
    {
     "cell_type": "code",
     "collapsed": false,
     "input": [
      "timeit sim2(n)"
     ],
     "language": "python",
     "metadata": {},
     "outputs": [],
     "prompt_number": 7
    }
   ],
   "metadata": {}
  }
 ]
}