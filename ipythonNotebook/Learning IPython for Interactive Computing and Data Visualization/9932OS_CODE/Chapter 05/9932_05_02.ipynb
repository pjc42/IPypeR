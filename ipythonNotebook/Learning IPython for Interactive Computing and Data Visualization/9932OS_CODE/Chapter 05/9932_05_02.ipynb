{
 "metadata": {
  "name": "9932_05_02"
 },
 "nbformat": 3,
 "nbformat_minor": 0,
 "worksheets": [
  {
   "cells": [
    {
     "cell_type": "code",
     "collapsed": false,
     "input": [
      "def sample(n):\n",
      "    return (rand(n) ** 2 + rand(n) ** 2 <= 1).sum()"
     ],
     "language": "python",
     "metadata": {},
     "outputs": [],
     "prompt_number": 1
    },
    {
     "cell_type": "code",
     "collapsed": false,
     "input": [
      "n = 1000000.\n",
      "4 * sample(n) / n"
     ],
     "language": "python",
     "metadata": {},
     "outputs": [],
     "prompt_number": 2
    },
    {
     "cell_type": "code",
     "collapsed": false,
     "input": [
      "from IPython.parallel import Client\n",
      "rc = Client()\n",
      "v = rc[:]\n",
      "with v.sync_imports():\n",
      "    from numpy.random import rand"
     ],
     "language": "python",
     "metadata": {},
     "outputs": [],
     "prompt_number": 3
    },
    {
     "cell_type": "code",
     "collapsed": false,
     "input": [
      "4 * sum(v.map_sync(sample, [n] * len(v))) / (n * len(v))"
     ],
     "language": "python",
     "metadata": {},
     "outputs": [],
     "prompt_number": 4
    }
   ],
   "metadata": {}
  }
 ]
}