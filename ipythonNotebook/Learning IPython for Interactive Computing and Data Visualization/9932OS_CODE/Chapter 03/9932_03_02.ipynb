{
 "metadata": {
  "name": "9932_03_02"
 },
 "nbformat": 3,
 "nbformat_minor": 0,
 "worksheets": [
  {
   "cells": [
    {
     "cell_type": "code",
     "collapsed": false,
     "input": [
      "def mul1(n):\n",
      "    return array([[(i + 1) * (j + 1) for i in xrange(n)] for j in xrange(n)])\n"
     ],
     "language": "python",
     "metadata": {},
     "outputs": [],
     "prompt_number": 1
    },
    {
     "cell_type": "code",
     "collapsed": false,
     "input": [
      "mul1(10)"
     ],
     "language": "python",
     "metadata": {},
     "outputs": [
      {
       "output_type": "pyout",
       "prompt_number": 2,
       "text": [
        "array([[  1,   2,   3,   4,   5,   6,   7,   8,   9,  10],\n",
        "       [  2,   4,   6,   8,  10,  12,  14,  16,  18,  20],\n",
        "       [  3,   6,   9,  12,  15,  18,  21,  24,  27,  30],\n",
        "       [  4,   8,  12,  16,  20,  24,  28,  32,  36,  40],\n",
        "       [  5,  10,  15,  20,  25,  30,  35,  40,  45,  50],\n",
        "       [  6,  12,  18,  24,  30,  36,  42,  48,  54,  60],\n",
        "       [  7,  14,  21,  28,  35,  42,  49,  56,  63,  70],\n",
        "       [  8,  16,  24,  32,  40,  48,  56,  64,  72,  80],\n",
        "       [  9,  18,  27,  36,  45,  54,  63,  72,  81,  90],\n",
        "       [ 10,  20,  30,  40,  50,  60,  70,  80,  90, 100]])"
       ]
      }
     ],
     "prompt_number": 2
    },
    {
     "cell_type": "code",
     "collapsed": false,
     "input": [
      "def mul2(n):\n",
      "    M = arange(1, n + 1).reshape((-1, 1))\n",
      "    M = tile(M, (1, n))\n",
      "    N = arange(1, n + 1).reshape((1, -1))\n",
      "    N = tile(N, (n, 1))\n",
      "    return M * N"
     ],
     "language": "python",
     "metadata": {},
     "outputs": [],
     "prompt_number": 3
    },
    {
     "cell_type": "code",
     "collapsed": false,
     "input": [
      "mul2(10)"
     ],
     "language": "python",
     "metadata": {},
     "outputs": [
      {
       "output_type": "pyout",
       "prompt_number": 4,
       "text": [
        "array([[  1,   2,   3,   4,   5,   6,   7,   8,   9,  10],\n",
        "       [  2,   4,   6,   8,  10,  12,  14,  16,  18,  20],\n",
        "       [  3,   6,   9,  12,  15,  18,  21,  24,  27,  30],\n",
        "       [  4,   8,  12,  16,  20,  24,  28,  32,  36,  40],\n",
        "       [  5,  10,  15,  20,  25,  30,  35,  40,  45,  50],\n",
        "       [  6,  12,  18,  24,  30,  36,  42,  48,  54,  60],\n",
        "       [  7,  14,  21,  28,  35,  42,  49,  56,  63,  70],\n",
        "       [  8,  16,  24,  32,  40,  48,  56,  64,  72,  80],\n",
        "       [  9,  18,  27,  36,  45,  54,  63,  72,  81,  90],\n",
        "       [ 10,  20,  30,  40,  50,  60,  70,  80,  90, 100]])"
       ]
      }
     ],
     "prompt_number": 4
    },
    {
     "cell_type": "code",
     "collapsed": false,
     "input": [
      "def mul3(n):\n",
      "    M = arange(1, n + 1).reshape((-1, 1))\n",
      "    N = arange(1, n + 1).reshape((1, -1))\n",
      "    return M * N"
     ],
     "language": "python",
     "metadata": {},
     "outputs": [],
     "prompt_number": 5
    },
    {
     "cell_type": "code",
     "collapsed": false,
     "input": [
      "mul3(10)"
     ],
     "language": "python",
     "metadata": {},
     "outputs": [
      {
       "output_type": "pyout",
       "prompt_number": 6,
       "text": [
        "array([[  1,   2,   3,   4,   5,   6,   7,   8,   9,  10],\n",
        "       [  2,   4,   6,   8,  10,  12,  14,  16,  18,  20],\n",
        "       [  3,   6,   9,  12,  15,  18,  21,  24,  27,  30],\n",
        "       [  4,   8,  12,  16,  20,  24,  28,  32,  36,  40],\n",
        "       [  5,  10,  15,  20,  25,  30,  35,  40,  45,  50],\n",
        "       [  6,  12,  18,  24,  30,  36,  42,  48,  54,  60],\n",
        "       [  7,  14,  21,  28,  35,  42,  49,  56,  63,  70],\n",
        "       [  8,  16,  24,  32,  40,  48,  56,  64,  72,  80],\n",
        "       [  9,  18,  27,  36,  45,  54,  63,  72,  81,  90],\n",
        "       [ 10,  20,  30,  40,  50,  60,  70,  80,  90, 100]])"
       ]
      }
     ],
     "prompt_number": 6
    },
    {
     "cell_type": "code",
     "collapsed": false,
     "input": [
      "timeit mul1(100)"
     ],
     "language": "python",
     "metadata": {},
     "outputs": [
      {
       "output_type": "stream",
       "stream": "stdout",
       "text": [
        "100 loops, best of 3: 5.17 ms per loop\n"
       ]
      }
     ],
     "prompt_number": 7
    },
    {
     "cell_type": "code",
     "collapsed": false,
     "input": [
      "timeit mul2(100)"
     ],
     "language": "python",
     "metadata": {},
     "outputs": [
      {
       "output_type": "stream",
       "stream": "stdout",
       "text": [
        "10000 loops, best of 3: 191 us per loop\n"
       ]
      }
     ],
     "prompt_number": 8
    },
    {
     "cell_type": "code",
     "collapsed": false,
     "input": [
      "timeit mul3(100)"
     ],
     "language": "python",
     "metadata": {},
     "outputs": [
      {
       "output_type": "stream",
       "stream": "stdout",
       "text": [
        "10000 loops, best of 3: 69.3 us per loop\n"
       ]
      }
     ],
     "prompt_number": 9
    }
   ],
   "metadata": {}
  }
 ]
}