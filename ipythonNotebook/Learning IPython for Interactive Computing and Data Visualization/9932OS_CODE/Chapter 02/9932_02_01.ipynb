{
 "metadata": {
  "name": "9932_02_01"
 },
 "nbformat": 3,
 "nbformat_minor": 0,
 "worksheets": [
  {
   "cells": [
    {
     "cell_type": "code",
     "collapsed": false,
     "input": [
      "import urllib2, zipfile\n",
      "url = 'http://ipython.rossant.net/'\n",
      "filename = 'facebook.zip'\n",
      "downloaded = urllib2.urlopen(url + filename)\n",
      "folder = 'data'\n",
      "%mkdir $folder\n",
      "%cd $folder\n",
      "with open(filename, 'wb') as f:\n",
      "    f.write(downloaded.read())\n",
      "with zipfile.ZipFile(filename) as zip:\n",
      "    zip.extractall(folder)\n",
      "%ls"
     ],
     "language": "python",
     "metadata": {},
     "outputs": [],
     "prompt_number": 5
    },
    {
     "cell_type": "code",
     "collapsed": false,
     "input": [
      "cd facebook"
     ],
     "language": "python",
     "metadata": {},
     "outputs": [],
     "prompt_number": 6
    },
    {
     "cell_type": "code",
     "collapsed": false,
     "input": [
      "ls"
     ],
     "language": "python",
     "metadata": {},
     "outputs": [],
     "prompt_number": 7
    },
    {
     "cell_type": "code",
     "collapsed": false,
     "input": [
      "bookmark fbdata"
     ],
     "language": "python",
     "metadata": {},
     "outputs": [],
     "prompt_number": 8
    },
    {
     "cell_type": "code",
     "collapsed": false,
     "input": [],
     "language": "python",
     "metadata": {},
     "outputs": []
    }
   ],
   "metadata": {}
  }
 ]
}